{
  "cells": [
    {
      "cell_type": "markdown",
      "metadata": {
        "id": "view-in-github",
        "colab_type": "text"
      },
      "source": [
        "<a href=\"https://colab.research.google.com/github/1991ta/hello/blob/master/Module3_01.ipynb\" target=\"_parent\"><img src=\"https://colab.research.google.com/assets/colab-badge.svg\" alt=\"Open In Colab\"/></a>"
      ]
    },
    {
      "cell_type": "code",
      "execution_count": null,
      "metadata": {
        "id": "5hbMEQdgQuiI"
      },
      "outputs": [],
      "source": [
        "import pandas as pd\n",
        "import networkx as nx\n",
        "import numpy as np \n",
        "import matplotlib.pyplot as plt\n"
      ]
    },
    {
      "cell_type": "code",
      "execution_count": null,
      "metadata": {
        "id": "rvVMECQ1fXIu"
      },
      "outputs": [],
      "source": [
        "phases = {}\n",
        "G = {}\n",
        "for i in range(1,12): \n",
        "  var_name = \"phase\" + str(i)\n",
        "  file_name = \"https://raw.githubusercontent.com/ragini30/Networks-Homework/main/\" + var_name + \".csv\"\n",
        "  phases[i] = pd.read_csv(file_name, index_col = [\"players\"])\n",
        "  phases[i].columns = \"n\" + phases[i].columns\n",
        "  phases[i].index = phases[i].columns\n",
        "  phases[i][phases[i] > 0] = 1\n",
        "  G[i] = nx.from_pandas_adjacency(phases[i])\n",
        "  G[i].name = var_name"
      ]
    },
    {
      "cell_type": "code",
      "execution_count": null,
      "metadata": {
        "colab": {
          "base_uri": "https://localhost:8080/"
        },
        "id": "YkczB9Gp0ygc",
        "outputId": "864400b7-2a0e-48a6-e3ca-34a57e697594"
      },
      "outputs": [
        {
          "name": "stdout",
          "output_type": "stream",
          "text": [
            "Reading package lists... Done\n",
            "Building dependency tree       \n",
            "Reading state information... Done\n",
            "Note, selecting 'libgraphviz-dev' instead of 'graphviz-dev'\n",
            "graphviz is already the newest version (2.42.2-3build2).\n",
            "The following additional packages will be installed:\n",
            "  libgail-common libgail18 libgtk2.0-0 libgtk2.0-bin libgtk2.0-common\n",
            "  libgvc6-plugins-gtk libxdot4\n",
            "Suggested packages:\n",
            "  gvfs\n",
            "The following NEW packages will be installed:\n",
            "  libgail-common libgail18 libgraphviz-dev libgtk2.0-0 libgtk2.0-bin\n",
            "  libgtk2.0-common libgvc6-plugins-gtk libxdot4\n",
            "0 upgraded, 8 newly installed, 0 to remove and 23 not upgraded.\n",
            "Need to get 2,148 kB of archives.\n",
            "After this operation, 7,427 kB of additional disk space will be used.\n",
            "Get:1 http://archive.ubuntu.com/ubuntu focal/main amd64 libgtk2.0-common all 2.24.32-4ubuntu4 [126 kB]\n",
            "Get:2 http://archive.ubuntu.com/ubuntu focal/main amd64 libgtk2.0-0 amd64 2.24.32-4ubuntu4 [1,791 kB]\n",
            "Get:3 http://archive.ubuntu.com/ubuntu focal/main amd64 libgail18 amd64 2.24.32-4ubuntu4 [14.7 kB]\n",
            "Get:4 http://archive.ubuntu.com/ubuntu focal/main amd64 libgail-common amd64 2.24.32-4ubuntu4 [116 kB]\n",
            "Get:5 http://archive.ubuntu.com/ubuntu focal/universe amd64 libxdot4 amd64 2.42.2-3build2 [15.4 kB]\n",
            "Get:6 http://archive.ubuntu.com/ubuntu focal/universe amd64 libgvc6-plugins-gtk amd64 2.42.2-3build2 [20.6 kB]\n",
            "Get:7 http://archive.ubuntu.com/ubuntu focal/universe amd64 libgraphviz-dev amd64 2.42.2-3build2 [57.2 kB]\n",
            "Get:8 http://archive.ubuntu.com/ubuntu focal/main amd64 libgtk2.0-bin amd64 2.24.32-4ubuntu4 [7,728 B]\n",
            "Fetched 2,148 kB in 0s (10.2 MB/s)\n",
            "Selecting previously unselected package libgtk2.0-common.\n",
            "(Reading database ... 128285 files and directories currently installed.)\n",
            "Preparing to unpack .../0-libgtk2.0-common_2.24.32-4ubuntu4_all.deb ...\n",
            "Unpacking libgtk2.0-common (2.24.32-4ubuntu4) ...\n",
            "Selecting previously unselected package libgtk2.0-0:amd64.\n",
            "Preparing to unpack .../1-libgtk2.0-0_2.24.32-4ubuntu4_amd64.deb ...\n",
            "Unpacking libgtk2.0-0:amd64 (2.24.32-4ubuntu4) ...\n",
            "Selecting previously unselected package libgail18:amd64.\n",
            "Preparing to unpack .../2-libgail18_2.24.32-4ubuntu4_amd64.deb ...\n",
            "Unpacking libgail18:amd64 (2.24.32-4ubuntu4) ...\n",
            "Selecting previously unselected package libgail-common:amd64.\n",
            "Preparing to unpack .../3-libgail-common_2.24.32-4ubuntu4_amd64.deb ...\n",
            "Unpacking libgail-common:amd64 (2.24.32-4ubuntu4) ...\n",
            "Selecting previously unselected package libxdot4:amd64.\n",
            "Preparing to unpack .../4-libxdot4_2.42.2-3build2_amd64.deb ...\n",
            "Unpacking libxdot4:amd64 (2.42.2-3build2) ...\n",
            "Selecting previously unselected package libgvc6-plugins-gtk.\n",
            "Preparing to unpack .../5-libgvc6-plugins-gtk_2.42.2-3build2_amd64.deb ...\n",
            "Unpacking libgvc6-plugins-gtk (2.42.2-3build2) ...\n",
            "Selecting previously unselected package libgraphviz-dev:amd64.\n",
            "Preparing to unpack .../6-libgraphviz-dev_2.42.2-3build2_amd64.deb ...\n",
            "Unpacking libgraphviz-dev:amd64 (2.42.2-3build2) ...\n",
            "Selecting previously unselected package libgtk2.0-bin.\n",
            "Preparing to unpack .../7-libgtk2.0-bin_2.24.32-4ubuntu4_amd64.deb ...\n",
            "Unpacking libgtk2.0-bin (2.24.32-4ubuntu4) ...\n",
            "Setting up libxdot4:amd64 (2.42.2-3build2) ...\n",
            "Setting up libgtk2.0-common (2.24.32-4ubuntu4) ...\n",
            "Setting up libgtk2.0-0:amd64 (2.24.32-4ubuntu4) ...\n",
            "Setting up libgvc6-plugins-gtk (2.42.2-3build2) ...\n",
            "Setting up libgail18:amd64 (2.24.32-4ubuntu4) ...\n",
            "Setting up libgtk2.0-bin (2.24.32-4ubuntu4) ...\n",
            "Setting up libgail-common:amd64 (2.24.32-4ubuntu4) ...\n",
            "Setting up libgraphviz-dev:amd64 (2.42.2-3build2) ...\n",
            "Processing triggers for man-db (2.9.1-1) ...\n",
            "Processing triggers for libc-bin (2.31-0ubuntu9.9) ...\n",
            "Looking in indexes: https://pypi.org/simple, https://us-python.pkg.dev/colab-wheels/public/simple/\n",
            "Collecting pygraphviz\n",
            "  Downloading pygraphviz-1.10.zip (120 kB)\n",
            "\u001b[2K     \u001b[90m━━━━━━━━━━━━━━━━━━━━━━━━━━━━━━━━━━━━━━━\u001b[0m \u001b[32m120.6/120.6 KB\u001b[0m \u001b[31m7.2 MB/s\u001b[0m eta \u001b[36m0:00:00\u001b[0m\n",
            "\u001b[?25h  Preparing metadata (setup.py) ... \u001b[?25l\u001b[?25hdone\n",
            "Building wheels for collected packages: pygraphviz\n",
            "  Building wheel for pygraphviz (setup.py) ... \u001b[?25l\u001b[?25hdone\n",
            "  Created wheel for pygraphviz: filename=pygraphviz-1.10-cp39-cp39-linux_x86_64.whl size=183748 sha256=1ef74c7b8be4f1783eb6e76568b702d520fc04f4d751a38e9d9ea4aceaab5d71\n",
            "  Stored in directory: /root/.cache/pip/wheels/fc/2a/e8/14a3ad923e265b2c264a2810d1ae36769ce99421c5dce75312\n",
            "Successfully built pygraphviz\n",
            "Installing collected packages: pygraphviz\n",
            "Successfully installed pygraphviz-1.10\n"
          ]
        }
      ],
      "source": [
        "!apt-get install graphviz graphviz-dev\n",
        "!pip install pygraphviz "
      ]
    },
    {
      "cell_type": "code",
      "execution_count": null,
      "metadata": {
        "colab": {
          "base_uri": "https://localhost:8080/"
        },
        "id": "9gyQyAITtK7R",
        "outputId": "3fc662ae-9139-4221-b235-d1e45b8ae93f"
      },
      "outputs": [
        {
          "data": {
            "text/plain": [
              "networkx.classes.graph.Graph"
            ]
          },
          "execution_count": 4,
          "metadata": {},
          "output_type": "execute_result"
        }
      ],
      "source": [
        "# print(G[2])\n",
        "# print(G[6])\n",
        "# print(G[10])\n",
        "type(G[2])"
      ]
    },
    {
      "cell_type": "code",
      "execution_count": null,
      "metadata": {
        "colab": {
          "base_uri": "https://localhost:8080/",
          "height": 281
        },
        "id": "H49k6nNRHLny",
        "outputId": "7ef26037-ab23-489d-f4a1-e22bdf2bd7da"
      },
      "outputs": [
        {
          "data": {
            "image/png": "[encoded data removed]",
            "text/plain": [
              "<Figure size 432x288 with 2 Axes>"
            ]
          },
          "metadata": {},
          "output_type": "display_data"
        }
      ],
      "source": [
        "nodes = []\n",
        "edges = []\n",
        "for i in range(1,12):\n",
        "  nodes.append(G[i].number_of_nodes())\n",
        "  edges.append(G[i].number_of_edges())\n",
        "\n",
        "plt.figure(1)\n",
        "# linear\n",
        "plt.subplot(211)\n",
        "plt.plot(range(1,12),nodes)\n",
        "plt.scatter(range(1,12),nodes)\n",
        "plt.yscale('linear')\n",
        "plt.title('#nodes')\n",
        "plt.grid(True)\n",
        "\n",
        "\n",
        "# log\n",
        "plt.subplot(212)\n",
        "plt.plot(range(1,12),edges)\n",
        "plt.scatter(range(1,12),edges)\n",
        "plt.yscale('linear')\n",
        "plt.title('#edges')\n",
        "plt.grid(True)"
      ]
    },
    {
      "cell_type": "code",
      "execution_count": null,
      "metadata": {
        "id": "TXYRPyQOtyzQ"
      },
      "outputs": [],
      "source": [
        "i=4\n",
        "nx.draw(G[i], pos=nx.drawing.nx_agraph.graphviz_layout(G[i]), with_labels=True)  \n"
      ]
    },
    {
      "cell_type": "code",
      "execution_count": null,
      "metadata": {
        "id": "OKBKW9u9ulH8"
      },
      "outputs": [],
      "source": [
        "nx.degree_centrality(G[9])\n",
        "nx.eigenvector_centrality(G[3])\n",
        "nx.betweenness_centrality(G[1], normalized = True)"
      ]
    },
    {
      "cell_type": "code",
      "execution_count": 70,
      "metadata": {
        "id": "mafViJkO_5Xt"
      },
      "outputs": [],
      "source": [
        "# defining an array of indexes (nodes) and columns (phases) of Data frame \n",
        "mylist = []\n",
        "for i in range(1,12):\n",
        "  mylist.append(list(nx.betweenness_centrality(G[i], normalized = True).keys()))\n",
        " \n",
        "my_rows = np.unique(np.concatenate(mylist))\n",
        "\n",
        "mylist2 = [] \n",
        "for i in range(1,12):\n",
        "  mylist2.append('phase'+str(i))\n",
        "\n",
        "my_columns = np.array(mylist2)"
      ]
    },
    {
      "cell_type": "code",
      "execution_count": null,
      "metadata": {
        "id": "cVuuJI6-Dywn"
      },
      "outputs": [],
      "source": [
        "df_btw = pd.DataFrame(index = my_rows, columns = my_columns)\n",
        "for i in my_rows:\n",
        "  for j in range(1,12):\n",
        "    # print(i,j)\n",
        "    # print(my_rows)\n",
        "    # print(my_columns)\n",
        "    try:\n",
        "      df_btw.loc[i,my_columns[j-1]] = nx.betweenness_centrality(G[j], normalized = True)[i]\n",
        "    except:\n",
        "      pass\n",
        "((df_btw.sum(axis=1))/11).sort_values()    "
      ]
    },
    {
      "cell_type": "code",
      "source": [
        "thresh = 9\n",
        "titles = list(df_btw.dropna(thresh=thresh).T.columns.values)\n",
        "\n",
        "titles"
      ],
      "metadata": {
        "colab": {
          "base_uri": "https://localhost:8080/"
        },
        "id": "BmUVjY3P71AQ",
        "outputId": "0ad9fcc2-4170-49d0-c913-741298e43f6d"
      },
      "execution_count": 113,
      "outputs": [
        {
          "output_type": "execute_result",
          "data": {
            "text/plain": [
              "['n1', 'n11', 'n12', 'n2', 'n3', 'n6', 'n76', 'n8', 'n83', 'n85']"
            ]
          },
          "metadata": {},
          "execution_count": 113
        }
      ]
    },
    {
      "cell_type": "code",
      "source": [
        "df_btw.shape\n"
      ],
      "metadata": {
        "colab": {
          "base_uri": "https://localhost:8080/"
        },
        "id": "IFTwof3p2RwE",
        "outputId": "81ab2736-0e1d-4e8a-acc8-4773ffcabf76"
      },
      "execution_count": 88,
      "outputs": [
        {
          "output_type": "execute_result",
          "data": {
            "text/plain": [
              "(107, 11)"
            ]
          },
          "metadata": {},
          "execution_count": 88
        }
      ]
    },
    {
      "cell_type": "code",
      "source": [
        "df_btw_avg = ((df_btw.sum(axis=1))/11)\n",
        "df_btw_avg.sort_values()"
      ],
      "metadata": {
        "id": "3GSu9Gt7Gwcv"
      },
      "execution_count": null,
      "outputs": []
    },
    {
      "cell_type": "code",
      "execution_count": null,
      "metadata": {
        "id": "7kf9ZBrhJpE8"
      },
      "outputs": [],
      "source": [
        "df_ev = pd.DataFrame(index = my_rows, columns = my_columns)\n",
        "\n",
        "for i in my_rows:\n",
        "  for j in range(1,12):\n",
        "    try:\n",
        "      df_ev.loc[i,my_columns[j-1]] = nx.eigenvector_centrality(G[j])[i]\n",
        "    except:\n",
        "      pass\n",
        "\n",
        "((df_ev.sum(axis=1))/11).sort_values()      \n",
        "    "
      ]
    },
    {
      "cell_type": "code",
      "source": [
        "df_ev.T"
      ],
      "metadata": {
        "id": "aRWTdM-Tyxvh"
      },
      "execution_count": null,
      "outputs": []
    },
    {
      "cell_type": "code",
      "source": [
        "df_ev_avg = ((df_ev.sum(axis=1))/11)\n",
        "df_ev_avg.sort_values()"
      ],
      "metadata": {
        "id": "fTMB0DNlGf4f"
      },
      "execution_count": null,
      "outputs": []
    },
    {
      "cell_type": "code",
      "source": [
        "df_ev.T.dropna(thresh=35).plot(subplots=False, figsize=(40,40))"
      ],
      "metadata": {
        "id": "A8sOSC0vgOza"
      },
      "execution_count": null,
      "outputs": []
    },
    {
      "cell_type": "code",
      "source": [
        "df_degreeCent = pd.DataFrame(index = my_rows, columns = my_columns)\n",
        "for i in my_rows:\n",
        "  for j in range(1,12):\n",
        "    # print(i,j)\n",
        "    # print(my_rows)\n",
        "    # print(my_columns)\n",
        "    try:\n",
        "      df_degreeCent.loc[i,my_columns[j-1]] = nx.degree_centrality(G[j])[i]\n",
        "    except:\n",
        "      pass\n",
        "\n",
        "  "
      ],
      "metadata": {
        "id": "_FOYltydzKhA"
      },
      "execution_count": 138,
      "outputs": []
    },
    {
      "cell_type": "code",
      "source": [
        "df_degreeCent_avg = ((df_degreeCent.sum(axis=1))/11)\n",
        "df_degreeCent_avg.sort_values()"
      ],
      "metadata": {
        "id": "88DqI1CGEwSe"
      },
      "execution_count": null,
      "outputs": []
    },
    {
      "cell_type": "code",
      "source": [
        "((df_btw.sum(axis=1))/11)\n"
      ],
      "metadata": {
        "id": "RwYyIFbRFJb1"
      },
      "execution_count": null,
      "outputs": []
    },
    {
      "cell_type": "code",
      "source": [
        "# plot Betweenness of deifferent nodes through phases\n",
        "ax = df_btw.dropna(thresh=9).T.plot(subplots=True, figsize=(150,100), layout=(3,4), title=titles, fontsize=80, lw=10)\n",
        "# edit the legends\n",
        "[ax.legend(loc=2,prop={'size': 80}) for ax in plt.gcf().axes]\n"
      ],
      "metadata": {
        "id": "RGUFVa0WasLr"
      },
      "execution_count": null,
      "outputs": []
    },
    {
      "cell_type": "code",
      "source": [
        "df_btw_avg\n",
        "df_ev_avg\n",
        "df_degreeCent_avg\n",
        "df = pd.concat([df_btw_avg,df_ev_avg,df_degreeCent_avg],axis=1)\n",
        "df.plot()\n",
        "plt.legend(['Betweenness Centrality', 'Eigenvector Centrality', 'Degree Centrality'])"
      ],
      "metadata": {
        "colab": {
          "base_uri": "https://localhost:8080/",
          "height": 282
        },
        "id": "qTLb0S3XG8LG",
        "outputId": "f0face9f-2785-423e-acad-ccfa3ce62963"
      },
      "execution_count": 152,
      "outputs": [
        {
          "output_type": "execute_result",
          "data": {
            "text/plain": [
              "<matplotlib.legend.Legend at 0x7f1b17ad93d0>"
            ]
          },
          "metadata": {},
          "execution_count": 152
        },
        {
          "output_type": "display_data",
          "data": {
            "text/plain": [
              "<Figure size 432x288 with 1 Axes>"
            ],
            "image/png": "[encoded data removed]"
          },
          "metadata": {
            "needs_background": "light"
          }
        }
      ]
    }
  ],
  "metadata": {
    "colab": {
      "provenance": [],
      "authorship_tag": "ABX9TyMc5OY9G2z6+MS8w3bEOqV1",
      "include_colab_link": true
    },
    "kernelspec": {
      "display_name": "Python 3",
      "name": "python3"
    },
    "language_info": {
      "name": "python"
    }
  },
  "nbformat": 4,
  "nbformat_minor": 0
}